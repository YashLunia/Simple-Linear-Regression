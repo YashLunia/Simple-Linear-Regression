{
 "cells": [
  {
   "cell_type": "code",
   "execution_count": 2,
   "id": "2c2f3415",
   "metadata": {
    "ExecuteTime": {
     "end_time": "2022-07-19T05:26:03.320215Z",
     "start_time": "2022-07-19T05:25:29.672608Z"
    }
   },
   "outputs": [],
   "source": [
    "import pandas as pd\n",
    "import numpy as np\n",
    "import seaborn as sns\n",
    "import warnings\n",
    "warnings.filterwarnings('ignore')\n",
    "import statsmodels.formula.api as smf"
   ]
  },
  {
   "cell_type": "markdown",
   "id": "e577a8de",
   "metadata": {},
   "source": [
    "# Q1. Delivery_Time"
   ]
  },
  {
   "cell_type": "markdown",
   "id": "806002aa",
   "metadata": {},
   "source": [
    "Question:- Predict delivery time using sorting time "
   ]
  },
  {
   "cell_type": "code",
   "execution_count": 3,
   "id": "e873adee",
   "metadata": {
    "ExecuteTime": {
     "end_time": "2022-07-19T05:26:44.415446Z",
     "start_time": "2022-07-19T05:26:43.932141Z"
    }
   },
   "outputs": [
    {
     "data": {
      "text/html": [
       "<div>\n",
       "<style scoped>\n",
       "    .dataframe tbody tr th:only-of-type {\n",
       "        vertical-align: middle;\n",
       "    }\n",
       "\n",
       "    .dataframe tbody tr th {\n",
       "        vertical-align: top;\n",
       "    }\n",
       "\n",
       "    .dataframe thead th {\n",
       "        text-align: right;\n",
       "    }\n",
       "</style>\n",
       "<table border=\"1\" class=\"dataframe\">\n",
       "  <thead>\n",
       "    <tr style=\"text-align: right;\">\n",
       "      <th></th>\n",
       "      <th>Delivery Time</th>\n",
       "      <th>Sorting Time</th>\n",
       "    </tr>\n",
       "  </thead>\n",
       "  <tbody>\n",
       "    <tr>\n",
       "      <th>0</th>\n",
       "      <td>21.00</td>\n",
       "      <td>10</td>\n",
       "    </tr>\n",
       "    <tr>\n",
       "      <th>1</th>\n",
       "      <td>13.50</td>\n",
       "      <td>4</td>\n",
       "    </tr>\n",
       "    <tr>\n",
       "      <th>2</th>\n",
       "      <td>19.75</td>\n",
       "      <td>6</td>\n",
       "    </tr>\n",
       "    <tr>\n",
       "      <th>3</th>\n",
       "      <td>24.00</td>\n",
       "      <td>9</td>\n",
       "    </tr>\n",
       "    <tr>\n",
       "      <th>4</th>\n",
       "      <td>29.00</td>\n",
       "      <td>10</td>\n",
       "    </tr>\n",
       "  </tbody>\n",
       "</table>\n",
       "</div>"
      ],
      "text/plain": [
       "   Delivery Time  Sorting Time\n",
       "0          21.00            10\n",
       "1          13.50             4\n",
       "2          19.75             6\n",
       "3          24.00             9\n",
       "4          29.00            10"
      ]
     },
     "execution_count": 3,
     "metadata": {},
     "output_type": "execute_result"
    }
   ],
   "source": [
    "delivery_df = pd.read_csv(\"delivery_time.csv\")\n",
    "delivery_df.head()"
   ]
  },
  {
   "cell_type": "code",
   "execution_count": 4,
   "id": "c7ad9954",
   "metadata": {
    "ExecuteTime": {
     "end_time": "2022-07-19T05:26:47.400690Z",
     "start_time": "2022-07-19T05:26:47.328623Z"
    }
   },
   "outputs": [],
   "source": [
    "delivery_df=delivery_df.rename(columns={'Delivery Time': 'del_t','Sorting Time': 'sort_t' })"
   ]
  },
  {
   "cell_type": "code",
   "execution_count": 5,
   "id": "73b09ee7",
   "metadata": {
    "ExecuteTime": {
     "end_time": "2022-07-19T05:26:48.428961Z",
     "start_time": "2022-07-19T05:26:48.248670Z"
    }
   },
   "outputs": [
    {
     "data": {
      "text/html": [
       "<div>\n",
       "<style scoped>\n",
       "    .dataframe tbody tr th:only-of-type {\n",
       "        vertical-align: middle;\n",
       "    }\n",
       "\n",
       "    .dataframe tbody tr th {\n",
       "        vertical-align: top;\n",
       "    }\n",
       "\n",
       "    .dataframe thead th {\n",
       "        text-align: right;\n",
       "    }\n",
       "</style>\n",
       "<table border=\"1\" class=\"dataframe\">\n",
       "  <thead>\n",
       "    <tr style=\"text-align: right;\">\n",
       "      <th></th>\n",
       "      <th>del_t</th>\n",
       "      <th>sort_t</th>\n",
       "    </tr>\n",
       "  </thead>\n",
       "  <tbody>\n",
       "    <tr>\n",
       "      <th>del_t</th>\n",
       "      <td>1.000000</td>\n",
       "      <td>0.825997</td>\n",
       "    </tr>\n",
       "    <tr>\n",
       "      <th>sort_t</th>\n",
       "      <td>0.825997</td>\n",
       "      <td>1.000000</td>\n",
       "    </tr>\n",
       "  </tbody>\n",
       "</table>\n",
       "</div>"
      ],
      "text/plain": [
       "           del_t    sort_t\n",
       "del_t   1.000000  0.825997\n",
       "sort_t  0.825997  1.000000"
      ]
     },
     "execution_count": 5,
     "metadata": {},
     "output_type": "execute_result"
    }
   ],
   "source": [
    "delivery_df.corr()"
   ]
  },
  {
   "cell_type": "code",
   "execution_count": 6,
   "id": "82e23274",
   "metadata": {
    "ExecuteTime": {
     "end_time": "2022-07-19T05:26:52.148792Z",
     "start_time": "2022-07-19T05:26:49.828281Z"
    }
   },
   "outputs": [
    {
     "data": {
      "text/plain": [
       "<AxesSubplot:xlabel='del_t', ylabel='Density'>"
      ]
     },
     "execution_count": 6,
     "metadata": {},
     "output_type": "execute_result"
    },
    {
     "data": {
      "image/png": "[encoded data removed]",
      "text/plain": [
       "<Figure size 432x288 with 1 Axes>"
      ]
     },
     "metadata": {
      "needs_background": "light"
     },
     "output_type": "display_data"
    }
   ],
   "source": [
    "sns.distplot(delivery_df['del_t'])"
   ]
  },
  {
   "cell_type": "code",
   "execution_count": 7,
   "id": "46384e47",
   "metadata": {
    "ExecuteTime": {
     "end_time": "2022-07-19T05:27:07.545977Z",
     "start_time": "2022-07-19T05:27:07.231871Z"
    }
   },
   "outputs": [
    {
     "data": {
      "text/plain": [
       "<AxesSubplot:xlabel='sort_t', ylabel='Density'>"
      ]
     },
     "execution_count": 7,
     "metadata": {},
     "output_type": "execute_result"
    },
    {
     "data": {
      "image/png": "[encoded data removed]",
      "text/plain": [
       "<Figure size 432x288 with 1 Axes>"
      ]
     },
     "metadata": {
      "needs_background": "light"
     },
     "output_type": "display_data"
    }
   ],
   "source": [
    "sns.distplot(delivery_df['sort_t'])"
   ]
  },
  {
   "cell_type": "code",
   "execution_count": 8,
   "id": "b9f0dc4b",
   "metadata": {
    "ExecuteTime": {
     "end_time": "2022-07-19T05:27:10.305480Z",
     "start_time": "2022-07-19T05:27:09.829051Z"
    }
   },
   "outputs": [],
   "source": [
    "model=smf.ols(\"del_t~sort_t\",data=delivery_df).fit()"
   ]
  },
  {
   "cell_type": "code",
   "execution_count": 27,
   "id": "2c1fea84",
   "metadata": {
    "ExecuteTime": {
     "end_time": "2022-07-12T06:17:04.276299Z",
     "start_time": "2022-07-12T06:17:03.817094Z"
    }
   },
   "outputs": [
    {
     "data": {
      "text/plain": [
       "<AxesSubplot:xlabel='sort_t', ylabel='del_t'>"
      ]
     },
     "execution_count": 27,
     "metadata": {},
     "output_type": "execute_result"
    },
    {
     "data": {
      "image/png": "[encoded data removed]",
      "text/plain": [
       "<Figure size 432x288 with 1 Axes>"
      ]
     },
     "metadata": {
      "needs_background": "light"
     },
     "output_type": "display_data"
    }
   ],
   "source": [
    "sns.regplot(x=\"sort_t\", y=\"del_t\", data=delivery_df)"
   ]
  },
  {
   "cell_type": "code",
   "execution_count": 9,
   "id": "799f95b5",
   "metadata": {
    "ExecuteTime": {
     "end_time": "2022-07-19T05:27:14.423187Z",
     "start_time": "2022-07-19T05:27:14.407168Z"
    }
   },
   "outputs": [
    {
     "data": {
      "text/plain": [
       "Intercept    6.582734\n",
       "sort_t       1.649020\n",
       "dtype: float64"
      ]
     },
     "execution_count": 9,
     "metadata": {},
     "output_type": "execute_result"
    }
   ],
   "source": [
    "model.params"
   ]
  },
  {
   "cell_type": "code",
   "execution_count": 10,
   "id": "7ccbd810",
   "metadata": {
    "ExecuteTime": {
     "end_time": "2022-07-19T05:27:16.336180Z",
     "start_time": "2022-07-19T05:27:16.216461Z"
    }
   },
   "outputs": [
    {
     "name": "stdout",
     "output_type": "stream",
     "text": [
      "Intercept    3.823349\n",
      "sort_t       6.387447\n",
      "dtype: float64 \n",
      " Intercept    0.001147\n",
      "sort_t       0.000004\n",
      "dtype: float64\n"
     ]
    }
   ],
   "source": [
    "print(model.tvalues, '\\n', model.pvalues)"
   ]
  },
  {
   "cell_type": "code",
   "execution_count": 11,
   "id": "df32f464",
   "metadata": {
    "ExecuteTime": {
     "end_time": "2022-07-19T05:27:19.442660Z",
     "start_time": "2022-07-19T05:27:19.410683Z"
    }
   },
   "outputs": [
    {
     "data": {
      "text/plain": [
       "(0.6822714748417231, 0.6655489208860244)"
      ]
     },
     "execution_count": 11,
     "metadata": {},
     "output_type": "execute_result"
    }
   ],
   "source": [
    "(model.rsquared,model.rsquared_adj)"
   ]
  },
  {
   "cell_type": "code",
   "execution_count": 13,
   "id": "fa18b432",
   "metadata": {
    "ExecuteTime": {
     "end_time": "2022-07-19T05:28:32.147863Z",
     "start_time": "2022-07-19T05:28:32.131862Z"
    }
   },
   "outputs": [],
   "source": [
    "x_log = np.log(delivery_df['sort_t'])\n",
    "y_log = np.log(delivery_df['del_t'])\n",
    "x_sqrt = np.sqrt(delivery_df['sort_t'])\n",
    "y_sqrt = np.sqrt(delivery_df['del_t'])"
   ]
  },
  {
   "cell_type": "code",
   "execution_count": 14,
   "id": "7bc019b7",
   "metadata": {
    "ExecuteTime": {
     "end_time": "2022-07-19T05:28:49.570989Z",
     "start_time": "2022-07-19T05:28:49.546991Z"
    }
   },
   "outputs": [
    {
     "data": {
      "text/html": [
       "<div>\n",
       "<style scoped>\n",
       "    .dataframe tbody tr th:only-of-type {\n",
       "        vertical-align: middle;\n",
       "    }\n",
       "\n",
       "    .dataframe tbody tr th {\n",
       "        vertical-align: top;\n",
       "    }\n",
       "\n",
       "    .dataframe thead th {\n",
       "        text-align: right;\n",
       "    }\n",
       "</style>\n",
       "<table border=\"1\" class=\"dataframe\">\n",
       "  <thead>\n",
       "    <tr style=\"text-align: right;\">\n",
       "      <th></th>\n",
       "      <th>del_t</th>\n",
       "      <th>sort_t</th>\n",
       "    </tr>\n",
       "  </thead>\n",
       "  <tbody>\n",
       "    <tr>\n",
       "      <th>0</th>\n",
       "      <td>21.00</td>\n",
       "      <td>10</td>\n",
       "    </tr>\n",
       "    <tr>\n",
       "      <th>1</th>\n",
       "      <td>13.50</td>\n",
       "      <td>4</td>\n",
       "    </tr>\n",
       "    <tr>\n",
       "      <th>2</th>\n",
       "      <td>19.75</td>\n",
       "      <td>6</td>\n",
       "    </tr>\n",
       "    <tr>\n",
       "      <th>3</th>\n",
       "      <td>24.00</td>\n",
       "      <td>9</td>\n",
       "    </tr>\n",
       "    <tr>\n",
       "      <th>4</th>\n",
       "      <td>29.00</td>\n",
       "      <td>10</td>\n",
       "    </tr>\n",
       "  </tbody>\n",
       "</table>\n",
       "</div>"
      ],
      "text/plain": [
       "   del_t  sort_t\n",
       "0  21.00      10\n",
       "1  13.50       4\n",
       "2  19.75       6\n",
       "3  24.00       9\n",
       "4  29.00      10"
      ]
     },
     "execution_count": 14,
     "metadata": {},
     "output_type": "execute_result"
    }
   ],
   "source": [
    "delivery_df.head()"
   ]
  },
  {
   "cell_type": "code",
   "execution_count": 16,
   "id": "8dc9852e",
   "metadata": {
    "ExecuteTime": {
     "end_time": "2022-07-19T05:29:59.077122Z",
     "start_time": "2022-07-19T05:29:58.954498Z"
    }
   },
   "outputs": [
    {
     "name": "stdout",
     "output_type": "stream",
     "text": [
      "Intercept    0.472460\n",
      "x_log        6.586789\n",
      "dtype: float64 \n",
      " Intercept    0.641980\n",
      "x_log        0.000003\n",
      "dtype: float64\n"
     ]
    },
    {
     "data": {
      "text/plain": [
       "(0.6954434611324223, 0.6794141696130761)"
      ]
     },
     "execution_count": 16,
     "metadata": {},
     "output_type": "execute_result"
    }
   ],
   "source": [
    "#Rsquared value using log transformation on input variable\n",
    "\n",
    "model1 = smf.ols(\"del_t~x_log\",data = delivery_df).fit()\n",
    "print(model1.tvalues, '\\n' ,model1.pvalues)\n",
    "(model1.rsquared,model1.rsquared_adj)"
   ]
  },
  {
   "cell_type": "code",
   "execution_count": 17,
   "id": "892f2099",
   "metadata": {
    "ExecuteTime": {
     "end_time": "2022-07-19T05:31:11.301904Z",
     "start_time": "2022-07-19T05:31:11.269888Z"
    }
   },
   "outputs": [
    {
     "name": "stdout",
     "output_type": "stream",
     "text": [
      "Intercept    20.601357\n",
      "sort_t        6.836088\n",
      "dtype: float64 \n",
      " Intercept    1.857343e-14\n",
      "sort_t       1.592708e-06\n",
      "dtype: float64\n"
     ]
    },
    {
     "data": {
      "text/plain": [
       "(0.7109478980584187, 0.6957346295351776)"
      ]
     },
     "execution_count": 17,
     "metadata": {},
     "output_type": "execute_result"
    }
   ],
   "source": [
    "#Rsquared value using log transformation on Target variable\n",
    "\n",
    "model2 = smf.ols(\"y_log~sort_t\",data = delivery_df).fit()\n",
    "print(model2.tvalues, '\\n' ,model2.pvalues)\n",
    "(model2.rsquared,model2.rsquared_adj)"
   ]
  },
  {
   "cell_type": "code",
   "execution_count": 19,
   "id": "8fd3ad14",
   "metadata": {
    "ExecuteTime": {
     "end_time": "2022-07-19T05:32:00.482257Z",
     "start_time": "2022-07-19T05:32:00.442262Z"
    }
   },
   "outputs": [
    {
     "name": "stdout",
     "output_type": "stream",
     "text": [
      "Intercept    13.085552\n",
      "x_log         8.024484\n",
      "dtype: float64 \n",
      " Intercept    5.921137e-11\n",
      "x_log        1.601539e-07\n",
      "dtype: float64\n"
     ]
    },
    {
     "data": {
      "text/plain": [
       "(0.77216134926874, 0.7601698413355158)"
      ]
     },
     "execution_count": 19,
     "metadata": {},
     "output_type": "execute_result"
    }
   ],
   "source": [
    "#Rsquared value using log transformation on both input and target variable\n",
    "\n",
    "model3 = smf.ols(\"y_log~x_log\",data = delivery_df).fit()\n",
    "print(model3.tvalues, '\\n' ,model3.pvalues)\n",
    "(model3.rsquared,model3.rsquared_adj)"
   ]
  },
  {
   "cell_type": "code",
   "execution_count": 21,
   "id": "fbae7eee",
   "metadata": {
    "ExecuteTime": {
     "end_time": "2022-07-19T05:32:43.539350Z",
     "start_time": "2022-07-19T05:32:43.507353Z"
    }
   },
   "outputs": [
    {
     "name": "stdout",
     "output_type": "stream",
     "text": [
      "Intercept   -0.840911\n",
      "x_sqrt       6.592434\n",
      "dtype: float64 \n",
      " Intercept    0.410857\n",
      "x_sqrt       0.000003\n",
      "dtype: float64\n"
     ]
    },
    {
     "data": {
      "text/plain": [
       "(0.6958062276308671, 0.6797960290851233)"
      ]
     },
     "execution_count": 21,
     "metadata": {},
     "output_type": "execute_result"
    }
   ],
   "source": [
    "#Rsquared value using square root transformation on input variable\n",
    "\n",
    "model4 = smf.ols(\"del_t~x_sqrt\",data = delivery_df).fit()\n",
    "print(model4.tvalues, '\\n' ,model4.pvalues)\n",
    "(model4.rsquared,model4.rsquared_adj)"
   ]
  },
  {
   "cell_type": "code",
   "execution_count": 22,
   "id": "e6e3f58d",
   "metadata": {
    "ExecuteTime": {
     "end_time": "2022-07-19T05:33:24.707499Z",
     "start_time": "2022-07-19T05:33:24.667480Z"
    }
   },
   "outputs": [
    {
     "name": "stdout",
     "output_type": "stream",
     "text": [
      "Intercept    13.527452\n",
      "sort_t        6.723095\n",
      "dtype: float64 \n",
      " Intercept    3.339366e-11\n",
      "sort_t       2.001215e-06\n",
      "dtype: float64\n"
     ]
    },
    {
     "data": {
      "text/plain": [
       "(0.704049871541756, 0.6884735489913221)"
      ]
     },
     "execution_count": 22,
     "metadata": {},
     "output_type": "execute_result"
    }
   ],
   "source": [
    "#Rsquared value using square root transformation on Target variable\n",
    "\n",
    "model5 = smf.ols(\"y_sqrt~sort_t\",data = delivery_df).fit()\n",
    "print(model5.tvalues, '\\n' ,model5.pvalues)\n",
    "(model5.rsquared,model5.rsquared_adj)"
   ]
  },
  {
   "cell_type": "code",
   "execution_count": 23,
   "id": "d05781e2",
   "metadata": {
    "ExecuteTime": {
     "end_time": "2022-07-19T05:34:05.989860Z",
     "start_time": "2022-07-19T05:34:05.949885Z"
    }
   },
   "outputs": [
    {
     "name": "stdout",
     "output_type": "stream",
     "text": [
      "Intercept    4.628248\n",
      "x_sqrt       7.152817\n",
      "dtype: float64 \n",
      " Intercept    1.833621e-04\n",
      "x_sqrt       8.475706e-07\n",
      "dtype: float64\n"
     ]
    },
    {
     "data": {
      "text/plain": [
       "(0.7292011987544664, 0.7149486302678594)"
      ]
     },
     "execution_count": 23,
     "metadata": {},
     "output_type": "execute_result"
    }
   ],
   "source": [
    "#Rsquared value using square root transformation on both Target and input variable\n",
    "\n",
    "model6 = smf.ols(\"y_sqrt~x_sqrt\",data = delivery_df).fit()\n",
    "print(model6.tvalues, '\\n' ,model6.pvalues)\n",
    "(model6.rsquared,model6.rsquared_adj)"
   ]
  },
  {
   "cell_type": "code",
   "execution_count": null,
   "id": "51ffcc54",
   "metadata": {},
   "outputs": [],
   "source": [
    "#Model3 shows the highest Rsquare value with log transformation on both input & output variable.\n",
    "#It shows 76% of variations."
   ]
  },
  {
   "cell_type": "code",
   "execution_count": 31,
   "id": "0b574592",
   "metadata": {
    "ExecuteTime": {
     "end_time": "2022-07-12T06:18:03.907078Z",
     "start_time": "2022-07-12T06:18:03.882997Z"
    }
   },
   "outputs": [],
   "source": [
    "newdata=pd.Series([8,12])"
   ]
  },
  {
   "cell_type": "code",
   "execution_count": 32,
   "id": "f5d11b8f",
   "metadata": {
    "ExecuteTime": {
     "end_time": "2022-07-12T06:18:17.240978Z",
     "start_time": "2022-07-12T06:18:17.214051Z"
    }
   },
   "outputs": [],
   "source": [
    "data_pred=pd.DataFrame(newdata,columns=['sort_t'])"
   ]
  },
  {
   "cell_type": "code",
   "execution_count": 33,
   "id": "7dc35e76",
   "metadata": {
    "ExecuteTime": {
     "end_time": "2022-07-12T06:18:26.716756Z",
     "start_time": "2022-07-12T06:18:26.684777Z"
    }
   },
   "outputs": [
    {
     "data": {
      "text/plain": [
       "0    19.774893\n",
       "1    26.370973\n",
       "dtype: float64"
      ]
     },
     "execution_count": 33,
     "metadata": {},
     "output_type": "execute_result"
    }
   ],
   "source": [
    "model.predict(data_pred)"
   ]
  },
  {
   "cell_type": "markdown",
   "id": "e9e801b7",
   "metadata": {},
   "source": [
    "# Q2. Salary_Data"
   ]
  },
  {
   "cell_type": "markdown",
   "id": "200ee10b",
   "metadata": {},
   "source": [
    "Question:- Build a prediction model for Salary_hike"
   ]
  },
  {
   "cell_type": "code",
   "execution_count": 24,
   "id": "1ae3471a",
   "metadata": {
    "ExecuteTime": {
     "end_time": "2022-07-19T05:38:02.865630Z",
     "start_time": "2022-07-19T05:38:02.682105Z"
    }
   },
   "outputs": [
    {
     "data": {
      "text/html": [
       "<div>\n",
       "<style scoped>\n",
       "    .dataframe tbody tr th:only-of-type {\n",
       "        vertical-align: middle;\n",
       "    }\n",
       "\n",
       "    .dataframe tbody tr th {\n",
       "        vertical-align: top;\n",
       "    }\n",
       "\n",
       "    .dataframe thead th {\n",
       "        text-align: right;\n",
       "    }\n",
       "</style>\n",
       "<table border=\"1\" class=\"dataframe\">\n",
       "  <thead>\n",
       "    <tr style=\"text-align: right;\">\n",
       "      <th></th>\n",
       "      <th>YearsExperience</th>\n",
       "      <th>Salary</th>\n",
       "    </tr>\n",
       "  </thead>\n",
       "  <tbody>\n",
       "    <tr>\n",
       "      <th>0</th>\n",
       "      <td>1.1</td>\n",
       "      <td>39343.0</td>\n",
       "    </tr>\n",
       "    <tr>\n",
       "      <th>1</th>\n",
       "      <td>1.3</td>\n",
       "      <td>46205.0</td>\n",
       "    </tr>\n",
       "    <tr>\n",
       "      <th>2</th>\n",
       "      <td>1.5</td>\n",
       "      <td>37731.0</td>\n",
       "    </tr>\n",
       "    <tr>\n",
       "      <th>3</th>\n",
       "      <td>2.0</td>\n",
       "      <td>43525.0</td>\n",
       "    </tr>\n",
       "    <tr>\n",
       "      <th>4</th>\n",
       "      <td>2.2</td>\n",
       "      <td>39891.0</td>\n",
       "    </tr>\n",
       "  </tbody>\n",
       "</table>\n",
       "</div>"
      ],
      "text/plain": [
       "   YearsExperience   Salary\n",
       "0              1.1  39343.0\n",
       "1              1.3  46205.0\n",
       "2              1.5  37731.0\n",
       "3              2.0  43525.0\n",
       "4              2.2  39891.0"
      ]
     },
     "execution_count": 24,
     "metadata": {},
     "output_type": "execute_result"
    }
   ],
   "source": [
    "salary_df = pd.read_csv(\"Salary_Data.csv\")\n",
    "salary_df.head()"
   ]
  },
  {
   "cell_type": "code",
   "execution_count": 25,
   "id": "9bceaf1e",
   "metadata": {
    "ExecuteTime": {
     "end_time": "2022-07-19T05:38:03.972868Z",
     "start_time": "2022-07-19T05:38:03.956849Z"
    }
   },
   "outputs": [],
   "source": [
    "salary_df=salary_df.rename(columns={'YearsExperience': 'y_exp','Salary': 'sal' })"
   ]
  },
  {
   "cell_type": "code",
   "execution_count": 26,
   "id": "8057a5ee",
   "metadata": {
    "ExecuteTime": {
     "end_time": "2022-07-19T05:38:04.920878Z",
     "start_time": "2022-07-19T05:38:04.896878Z"
    }
   },
   "outputs": [
    {
     "data": {
      "text/html": [
       "<div>\n",
       "<style scoped>\n",
       "    .dataframe tbody tr th:only-of-type {\n",
       "        vertical-align: middle;\n",
       "    }\n",
       "\n",
       "    .dataframe tbody tr th {\n",
       "        vertical-align: top;\n",
       "    }\n",
       "\n",
       "    .dataframe thead th {\n",
       "        text-align: right;\n",
       "    }\n",
       "</style>\n",
       "<table border=\"1\" class=\"dataframe\">\n",
       "  <thead>\n",
       "    <tr style=\"text-align: right;\">\n",
       "      <th></th>\n",
       "      <th>y_exp</th>\n",
       "      <th>sal</th>\n",
       "    </tr>\n",
       "  </thead>\n",
       "  <tbody>\n",
       "    <tr>\n",
       "      <th>y_exp</th>\n",
       "      <td>1.000000</td>\n",
       "      <td>0.978242</td>\n",
       "    </tr>\n",
       "    <tr>\n",
       "      <th>sal</th>\n",
       "      <td>0.978242</td>\n",
       "      <td>1.000000</td>\n",
       "    </tr>\n",
       "  </tbody>\n",
       "</table>\n",
       "</div>"
      ],
      "text/plain": [
       "          y_exp       sal\n",
       "y_exp  1.000000  0.978242\n",
       "sal    0.978242  1.000000"
      ]
     },
     "execution_count": 26,
     "metadata": {},
     "output_type": "execute_result"
    }
   ],
   "source": [
    "salary_df.corr()"
   ]
  },
  {
   "cell_type": "code",
   "execution_count": 27,
   "id": "43a97499",
   "metadata": {
    "ExecuteTime": {
     "end_time": "2022-07-19T05:38:06.251694Z",
     "start_time": "2022-07-19T05:38:05.911519Z"
    }
   },
   "outputs": [
    {
     "data": {
      "text/plain": [
       "<AxesSubplot:xlabel='y_exp', ylabel='Density'>"
      ]
     },
     "execution_count": 27,
     "metadata": {},
     "output_type": "execute_result"
    },
    {
     "data": {
      "image/png": "[encoded data removed]",
      "text/plain": [
       "<Figure size 432x288 with 1 Axes>"
      ]
     },
     "metadata": {
      "needs_background": "light"
     },
     "output_type": "display_data"
    }
   ],
   "source": [
    "sns.distplot(salary_df['y_exp'])"
   ]
  },
  {
   "cell_type": "code",
   "execution_count": 28,
   "id": "57f903df",
   "metadata": {
    "ExecuteTime": {
     "end_time": "2022-07-19T05:38:07.535132Z",
     "start_time": "2022-07-19T05:38:07.256126Z"
    }
   },
   "outputs": [
    {
     "data": {
      "text/plain": [
       "<AxesSubplot:xlabel='sal', ylabel='Density'>"
      ]
     },
     "execution_count": 28,
     "metadata": {},
     "output_type": "execute_result"
    },
    {
     "data": {
      "image/png": "[encoded data removed]",
      "text/plain": [
       "<Figure size 432x288 with 1 Axes>"
      ]
     },
     "metadata": {
      "needs_background": "light"
     },
     "output_type": "display_data"
    }
   ],
   "source": [
    "sns.distplot(salary_df['sal'])"
   ]
  },
  {
   "cell_type": "code",
   "execution_count": 29,
   "id": "d71a4559",
   "metadata": {
    "ExecuteTime": {
     "end_time": "2022-07-19T05:38:10.243978Z",
     "start_time": "2022-07-19T05:38:10.219973Z"
    }
   },
   "outputs": [],
   "source": [
    "model=smf.ols(\"sal~y_exp\",data=salary_df).fit()"
   ]
  },
  {
   "cell_type": "code",
   "execution_count": 30,
   "id": "bc819d57",
   "metadata": {
    "ExecuteTime": {
     "end_time": "2022-07-19T05:38:13.390248Z",
     "start_time": "2022-07-19T05:38:12.483016Z"
    }
   },
   "outputs": [
    {
     "data": {
      "text/plain": [
       "<AxesSubplot:xlabel='y_exp', ylabel='sal'>"
      ]
     },
     "execution_count": 30,
     "metadata": {},
     "output_type": "execute_result"
    },
    {
     "data": {
      "image/png": "[encoded data removed]",
      "text/plain": [
       "<Figure size 432x288 with 1 Axes>"
      ]
     },
     "metadata": {
      "needs_background": "light"
     },
     "output_type": "display_data"
    }
   ],
   "source": [
    "sns.regplot(x=\"y_exp\", y=\"sal\", data=salary_df)"
   ]
  },
  {
   "cell_type": "code",
   "execution_count": 31,
   "id": "34fbda38",
   "metadata": {
    "ExecuteTime": {
     "end_time": "2022-07-19T05:38:15.199397Z",
     "start_time": "2022-07-19T05:38:15.183388Z"
    }
   },
   "outputs": [
    {
     "data": {
      "text/plain": [
       "Intercept    25792.200199\n",
       "y_exp         9449.962321\n",
       "dtype: float64"
      ]
     },
     "execution_count": 31,
     "metadata": {},
     "output_type": "execute_result"
    }
   ],
   "source": [
    "model.params"
   ]
  },
  {
   "cell_type": "code",
   "execution_count": 42,
   "id": "e58e20f2",
   "metadata": {
    "ExecuteTime": {
     "end_time": "2022-07-12T06:22:20.793990Z",
     "start_time": "2022-07-12T06:22:20.769985Z"
    }
   },
   "outputs": [
    {
     "name": "stdout",
     "output_type": "stream",
     "text": [
      "Intercept    11.346940\n",
      "y_exp        24.950094\n",
      "dtype: float64 \n",
      " Intercept    5.511950e-12\n",
      "y_exp        1.143068e-20\n",
      "dtype: float64\n"
     ]
    }
   ],
   "source": [
    "print(model.tvalues, '\\n', model.pvalues)"
   ]
  },
  {
   "cell_type": "code",
   "execution_count": 43,
   "id": "2de8b8bd",
   "metadata": {
    "ExecuteTime": {
     "end_time": "2022-07-12T06:22:32.599473Z",
     "start_time": "2022-07-12T06:22:32.583475Z"
    }
   },
   "outputs": [
    {
     "data": {
      "text/plain": [
       "(0.9569566641435086, 0.9554194021486339)"
      ]
     },
     "execution_count": 43,
     "metadata": {},
     "output_type": "execute_result"
    }
   ],
   "source": [
    "(model.rsquared,model.rsquared_adj)"
   ]
  },
  {
   "cell_type": "code",
   "execution_count": 32,
   "id": "1c6b9388",
   "metadata": {
    "ExecuteTime": {
     "end_time": "2022-07-19T05:39:43.961019Z",
     "start_time": "2022-07-19T05:39:43.945019Z"
    }
   },
   "outputs": [],
   "source": [
    "X_log = np.log(salary_df['y_exp'])\n",
    "Y_log = np.log(salary_df['sal'])\n",
    "X_sqrt = np.sqrt(salary_df['y_exp'])\n",
    "Y_sqrt = np.sqrt(salary_df['sal'])"
   ]
  },
  {
   "cell_type": "code",
   "execution_count": 33,
   "id": "868699fd",
   "metadata": {
    "ExecuteTime": {
     "end_time": "2022-07-19T05:39:58.232755Z",
     "start_time": "2022-07-19T05:39:58.208732Z"
    }
   },
   "outputs": [],
   "source": [
    "salary_df['log_years_of_experience'] = X_log\n",
    "salary_df['log_salary'] = Y_log\n",
    "salary_df['sqrt_years_of_experience'] = X_sqrt\n",
    "salary_df['sqrt_salary'] = Y_sqrt"
   ]
  },
  {
   "cell_type": "code",
   "execution_count": 34,
   "id": "6a3b85c0",
   "metadata": {
    "ExecuteTime": {
     "end_time": "2022-07-19T05:40:14.972483Z",
     "start_time": "2022-07-19T05:40:14.940485Z"
    }
   },
   "outputs": [
    {
     "data": {
      "text/html": [
       "<div>\n",
       "<style scoped>\n",
       "    .dataframe tbody tr th:only-of-type {\n",
       "        vertical-align: middle;\n",
       "    }\n",
       "\n",
       "    .dataframe tbody tr th {\n",
       "        vertical-align: top;\n",
       "    }\n",
       "\n",
       "    .dataframe thead th {\n",
       "        text-align: right;\n",
       "    }\n",
       "</style>\n",
       "<table border=\"1\" class=\"dataframe\">\n",
       "  <thead>\n",
       "    <tr style=\"text-align: right;\">\n",
       "      <th></th>\n",
       "      <th>y_exp</th>\n",
       "      <th>sal</th>\n",
       "      <th>log_years_of_experience</th>\n",
       "      <th>log_salary</th>\n",
       "      <th>sqrt_years_of_experience</th>\n",
       "      <th>sqrt_salary</th>\n",
       "    </tr>\n",
       "  </thead>\n",
       "  <tbody>\n",
       "    <tr>\n",
       "      <th>0</th>\n",
       "      <td>1.1</td>\n",
       "      <td>39343.0</td>\n",
       "      <td>0.095310</td>\n",
       "      <td>10.580073</td>\n",
       "      <td>1.048809</td>\n",
       "      <td>198.350700</td>\n",
       "    </tr>\n",
       "    <tr>\n",
       "      <th>1</th>\n",
       "      <td>1.3</td>\n",
       "      <td>46205.0</td>\n",
       "      <td>0.262364</td>\n",
       "      <td>10.740843</td>\n",
       "      <td>1.140175</td>\n",
       "      <td>214.953483</td>\n",
       "    </tr>\n",
       "    <tr>\n",
       "      <th>2</th>\n",
       "      <td>1.5</td>\n",
       "      <td>37731.0</td>\n",
       "      <td>0.405465</td>\n",
       "      <td>10.538237</td>\n",
       "      <td>1.224745</td>\n",
       "      <td>194.244691</td>\n",
       "    </tr>\n",
       "    <tr>\n",
       "      <th>3</th>\n",
       "      <td>2.0</td>\n",
       "      <td>43525.0</td>\n",
       "      <td>0.693147</td>\n",
       "      <td>10.681091</td>\n",
       "      <td>1.414214</td>\n",
       "      <td>208.626460</td>\n",
       "    </tr>\n",
       "    <tr>\n",
       "      <th>4</th>\n",
       "      <td>2.2</td>\n",
       "      <td>39891.0</td>\n",
       "      <td>0.788457</td>\n",
       "      <td>10.593906</td>\n",
       "      <td>1.483240</td>\n",
       "      <td>199.727314</td>\n",
       "    </tr>\n",
       "  </tbody>\n",
       "</table>\n",
       "</div>"
      ],
      "text/plain": [
       "   y_exp      sal  log_years_of_experience  log_salary  \\\n",
       "0    1.1  39343.0                 0.095310   10.580073   \n",
       "1    1.3  46205.0                 0.262364   10.740843   \n",
       "2    1.5  37731.0                 0.405465   10.538237   \n",
       "3    2.0  43525.0                 0.693147   10.681091   \n",
       "4    2.2  39891.0                 0.788457   10.593906   \n",
       "\n",
       "   sqrt_years_of_experience  sqrt_salary  \n",
       "0                  1.048809   198.350700  \n",
       "1                  1.140175   214.953483  \n",
       "2                  1.224745   194.244691  \n",
       "3                  1.414214   208.626460  \n",
       "4                  1.483240   199.727314  "
      ]
     },
     "execution_count": 34,
     "metadata": {},
     "output_type": "execute_result"
    }
   ],
   "source": [
    "salary_df.head()"
   ]
  },
  {
   "cell_type": "code",
   "execution_count": 35,
   "id": "1f7501ee",
   "metadata": {
    "ExecuteTime": {
     "end_time": "2022-07-19T05:40:50.333356Z",
     "start_time": "2022-07-19T05:40:50.231581Z"
    }
   },
   "outputs": [
    {
     "name": "stdout",
     "output_type": "stream",
     "text": [
      "Intercept                   2.895135\n",
      "log_years_of_experience    12.791989\n",
      "dtype: float64 \n",
      " Intercept                  7.268813e-03\n",
      "log_years_of_experience    3.250155e-13\n",
      "dtype: float64\n"
     ]
    },
    {
     "data": {
      "text/plain": [
       "(0.8538888828756969, 0.8486706286926861)"
      ]
     },
     "execution_count": 35,
     "metadata": {},
     "output_type": "execute_result"
    }
   ],
   "source": [
    "#Rsquared value using log transformation on input variable\n",
    "\n",
    "model_log_x = smf.ols(\"sal~log_years_of_experience\",data = salary_df).fit()\n",
    "print(model_log_x.tvalues, '\\n' ,model_log_x.pvalues)\n",
    "(model_log_x.rsquared,model_log_x.rsquared_adj)"
   ]
  },
  {
   "cell_type": "code",
   "execution_count": 37,
   "id": "a0fd5fd9",
   "metadata": {
    "ExecuteTime": {
     "end_time": "2022-07-19T05:42:41.607184Z",
     "start_time": "2022-07-19T05:42:41.575187Z"
    }
   },
   "outputs": [
    {
     "name": "stdout",
     "output_type": "stream",
     "text": [
      "Intercept    273.327166\n",
      "y_exp         19.584833\n",
      "dtype: float64 \n",
      " Intercept    1.604634e-49\n",
      "y_exp        7.027439e-18\n",
      "dtype: float64\n"
     ]
    },
    {
     "data": {
      "text/plain": [
       "(0.9319671194084195, 0.9295373736730059)"
      ]
     },
     "execution_count": 37,
     "metadata": {},
     "output_type": "execute_result"
    }
   ],
   "source": [
    "#Rsquared value using log transformation on target variable\n",
    "\n",
    "model_log_y = smf.ols(\"log_salary~y_exp\",data = salary_df).fit()\n",
    "print(model_log_y.tvalues, '\\n' ,model_log_y.pvalues)\n",
    "(model_log_y.rsquared,model_log_y.rsquared_adj)"
   ]
  },
  {
   "cell_type": "code",
   "execution_count": 38,
   "id": "1d0ea84d",
   "metadata": {
    "ExecuteTime": {
     "end_time": "2022-07-19T05:43:03.437633Z",
     "start_time": "2022-07-19T05:43:03.405631Z"
    }
   },
   "outputs": [
    {
     "name": "stdout",
     "output_type": "stream",
     "text": [
      "Intercept                  184.867959\n",
      "log_years_of_experience     16.352542\n",
      "dtype: float64 \n",
      " Intercept                  9.073132e-45\n",
      "log_years_of_experience    7.395278e-16\n",
      "dtype: float64\n"
     ]
    },
    {
     "data": {
      "text/plain": [
       "(0.9052150725817149, 0.9018298966024904)"
      ]
     },
     "execution_count": 38,
     "metadata": {},
     "output_type": "execute_result"
    }
   ],
   "source": [
    "#Rsquared value using log transformation on target and input variable\n",
    "\n",
    "model_log_x_y = smf.ols(\"log_salary~log_years_of_experience\",data = salary_df).fit()\n",
    "print(model_log_x_y.tvalues, '\\n' ,model_log_x_y.pvalues)\n",
    "(model_log_x_y.rsquared,model_log_x_y.rsquared_adj)"
   ]
  },
  {
   "cell_type": "code",
   "execution_count": 39,
   "id": "eead7931",
   "metadata": {
    "ExecuteTime": {
     "end_time": "2022-07-19T05:43:20.867498Z",
     "start_time": "2022-07-19T05:43:20.827499Z"
    }
   },
   "outputs": [
    {
     "name": "stdout",
     "output_type": "stream",
     "text": [
      "Intercept                   -3.262308\n",
      "sqrt_years_of_experience    19.437148\n",
      "dtype: float64 \n",
      " Intercept                   2.906965e-03\n",
      "sqrt_years_of_experience    8.565358e-18\n",
      "dtype: float64\n"
     ]
    },
    {
     "data": {
      "text/plain": [
       "(0.9310009544993526, 0.9285367028743294)"
      ]
     },
     "execution_count": 39,
     "metadata": {},
     "output_type": "execute_result"
    }
   ],
   "source": [
    "#Rsquared value using square root transformation on input variable\n",
    "\n",
    "model_sqrt_x = smf.ols(\"sal~sqrt_years_of_experience\",data = salary_df).fit()\n",
    "print(model_sqrt_x.tvalues, '\\n' ,model_sqrt_x.pvalues)\n",
    "(model_sqrt_x.rsquared,model_sqrt_x.rsquared_adj)"
   ]
  },
  {
   "cell_type": "code",
   "execution_count": 40,
   "id": "195fb061",
   "metadata": {
    "ExecuteTime": {
     "end_time": "2022-07-19T05:43:41.104351Z",
     "start_time": "2022-07-19T05:43:41.072351Z"
    }
   },
   "outputs": [
    {
     "name": "stdout",
     "output_type": "stream",
     "text": [
      "Intercept    40.646251\n",
      "y_exp        23.025247\n",
      "dtype: float64 \n",
      " Intercept    1.920194e-26\n",
      "y_exp        9.782891e-20\n",
      "dtype: float64\n"
     ]
    },
    {
     "data": {
      "text/plain": [
       "(0.9498353533865289, 0.9480437588646192)"
      ]
     },
     "execution_count": 40,
     "metadata": {},
     "output_type": "execute_result"
    }
   ],
   "source": [
    "#Rsquared value using square root transformation on target variable\n",
    "\n",
    "model_sqrt_y = smf.ols(\"sqrt_salary~y_exp\",data = salary_df).fit()\n",
    "print(model_sqrt_y.tvalues, '\\n' ,model_sqrt_y.pvalues)\n",
    "(model_sqrt_y.rsquared,model_sqrt_y.rsquared_adj)"
   ]
  },
  {
   "cell_type": "code",
   "execution_count": 41,
   "id": "0167a6ef",
   "metadata": {
    "ExecuteTime": {
     "end_time": "2022-07-19T05:43:58.312393Z",
     "start_time": "2022-07-19T05:43:58.280375Z"
    }
   },
   "outputs": [
    {
     "name": "stdout",
     "output_type": "stream",
     "text": [
      "Intercept                   12.663496\n",
      "sqrt_years_of_experience    21.315126\n",
      "dtype: float64 \n",
      " Intercept                   4.141645e-13\n",
      "sqrt_years_of_experience    7.584326e-19\n",
      "dtype: float64\n"
     ]
    },
    {
     "data": {
      "text/plain": [
       "(0.9419490138976825, 0.9398757643940283)"
      ]
     },
     "execution_count": 41,
     "metadata": {},
     "output_type": "execute_result"
    }
   ],
   "source": [
    "#Rsquared value using square root transformation on both target and input variable\n",
    "\n",
    "model_sqrt_x_y = smf.ols(\"sqrt_salary~sqrt_years_of_experience\",data = salary_df).fit()\n",
    "print(model_sqrt_x_y.tvalues, '\\n' ,model_sqrt_x_y.pvalues)\n",
    "(model_sqrt_x_y.rsquared,model_sqrt_x_y.rsquared_adj)"
   ]
  },
  {
   "cell_type": "code",
   "execution_count": null,
   "id": "fc448295",
   "metadata": {},
   "outputs": [],
   "source": [
    "#The R square value with square root transformation on target variable is the highest.\n",
    "#It explains 94% variation"
   ]
  },
  {
   "cell_type": "code",
   "execution_count": 44,
   "id": "032381b6",
   "metadata": {
    "ExecuteTime": {
     "end_time": "2022-07-12T06:23:45.869880Z",
     "start_time": "2022-07-12T06:23:45.853863Z"
    }
   },
   "outputs": [],
   "source": [
    "newdata=pd.Series([8,14])"
   ]
  },
  {
   "cell_type": "code",
   "execution_count": 45,
   "id": "88bf93de",
   "metadata": {
    "ExecuteTime": {
     "end_time": "2022-07-12T06:24:00.473430Z",
     "start_time": "2022-07-12T06:24:00.449407Z"
    }
   },
   "outputs": [],
   "source": [
    "data_pred=pd.DataFrame(newdata,columns=['y_exp'])"
   ]
  },
  {
   "cell_type": "code",
   "execution_count": 46,
   "id": "0ad87506",
   "metadata": {
    "ExecuteTime": {
     "end_time": "2022-07-12T06:24:09.430597Z",
     "start_time": "2022-07-12T06:24:09.398598Z"
    }
   },
   "outputs": [
    {
     "data": {
      "text/plain": [
       "0    101391.898770\n",
       "1    158091.672699\n",
       "dtype: float64"
      ]
     },
     "execution_count": 46,
     "metadata": {},
     "output_type": "execute_result"
    }
   ],
   "source": [
    "model.predict(data_pred)"
   ]
  },
  {
   "cell_type": "code",
   "execution_count": null,
   "id": "2947a4b5",
   "metadata": {},
   "outputs": [],
   "source": []
  }
 ],
 "metadata": {
  "kernelspec": {
   "display_name": "Python 3 (ipykernel)",
   "language": "python",
   "name": "python3"
  },
  "language_info": {
   "codemirror_mode": {
    "name": "ipython",
    "version": 3
   },
   "file_extension": ".py",
   "mimetype": "text/x-python",
   "name": "python",
   "nbconvert_exporter": "python",
   "pygments_lexer": "ipython3",
   "version": "3.9.7"
  },
  "toc": {
   "base_numbering": 1,
   "nav_menu": {},
   "number_sections": true,
   "sideBar": true,
   "skip_h1_title": false,
   "title_cell": "Table of Contents",
   "title_sidebar": "Contents",
   "toc_cell": false,
   "toc_position": {},
   "toc_section_display": true,
   "toc_window_display": false
  }
 },
 "nbformat": 4,
 "nbformat_minor": 5
}
